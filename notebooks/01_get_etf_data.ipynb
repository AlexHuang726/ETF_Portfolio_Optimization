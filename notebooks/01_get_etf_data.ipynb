{
 "cells": [
  {
   "cell_type": "code",
   "execution_count": 3,
   "id": "33920706",
   "metadata": {},
   "outputs": [
    {
     "name": "stderr",
     "output_type": "stream",
     "text": [
      "\u001b[32m2025-08-05 20:02:02.670\u001b[0m | \u001b[1mINFO    \u001b[0m | \u001b[36mFinMind.data.finmind_api\u001b[0m:\u001b[36mget_data\u001b[0m:\u001b[36m155\u001b[0m - \u001b[1mdownload Dataset.TaiwanStockPrice, data_id: 0050\u001b[0m\n"
     ]
    },
    {
     "name": "stdout",
     "output_type": "stream",
     "text": [
      "正在抓取 0050 資料...\n"
     ]
    },
    {
     "name": "stderr",
     "output_type": "stream",
     "text": [
      "\u001b[32m2025-08-05 20:02:03.518\u001b[0m | \u001b[1mINFO    \u001b[0m | \u001b[36mFinMind.data.finmind_api\u001b[0m:\u001b[36mget_data\u001b[0m:\u001b[36m155\u001b[0m - \u001b[1mdownload Dataset.TaiwanStockPrice, data_id: 00878\u001b[0m\n"
     ]
    },
    {
     "name": "stdout",
     "output_type": "stream",
     "text": [
      "正在抓取 00878 資料...\n"
     ]
    },
    {
     "name": "stderr",
     "output_type": "stream",
     "text": [
      "\u001b[32m2025-08-05 20:02:03.854\u001b[0m | \u001b[1mINFO    \u001b[0m | \u001b[36mFinMind.data.finmind_api\u001b[0m:\u001b[36mget_data\u001b[0m:\u001b[36m155\u001b[0m - \u001b[1mdownload Dataset.TaiwanStockPrice, data_id: 006208\u001b[0m\n"
     ]
    },
    {
     "name": "stdout",
     "output_type": "stream",
     "text": [
      "正在抓取 006208 資料...\n",
      "資料抓取完成，已儲存到 data/etf_price_raw.csv\n"
     ]
    }
   ],
   "source": [
    "from FinMind.data import DataLoader\n",
    "import pandas as pd\n",
    "import os  # 加這個\n",
    "\n",
    "# 初始化 API\n",
    "api = DataLoader()\n",
    "\n",
    "# 你要抓的 ETF 代號\n",
    "etf_list = [\"0050\", \"00878\", \"006208\"]\n",
    "start_date = \"2020-01-01\"\n",
    "all_data = pd.DataFrame()\n",
    "\n",
    "for etf in etf_list:\n",
    "    print(f\"正在抓取 {etf} 資料...\")\n",
    "    data = api.taiwan_stock_daily(\n",
    "        stock_id=etf,\n",
    "        start_date=start_date\n",
    "    )\n",
    "    data = data[[\"date\", \"stock_id\", \"close\"]]\n",
    "    all_data = pd.concat([all_data, data])\n",
    "\n",
    "# ✅ 如果資料夾不存在就建立\n",
    "os.makedirs(\"data\", exist_ok=True)\n",
    "\n",
    "# 儲存檔案\n",
    "all_data.to_csv(\"data/etf_price_raw.csv\", index=False, encoding=\"utf-8-sig\")\n",
    "print(\"資料抓取完成，已儲存到 data/etf_price_raw.csv\")\n"
   ]
  },
  {
   "cell_type": "code",
   "execution_count": null,
   "id": "1a7e82f5",
   "metadata": {},
   "outputs": [],
   "source": []
  }
 ],
 "metadata": {
  "kernelspec": {
   "display_name": "Python 3",
   "language": "python",
   "name": "python3"
  },
  "language_info": {
   "codemirror_mode": {
    "name": "ipython",
    "version": 3
   },
   "file_extension": ".py",
   "mimetype": "text/x-python",
   "name": "python",
   "nbconvert_exporter": "python",
   "pygments_lexer": "ipython3",
   "version": "3.13.2"
  }
 },
 "nbformat": 4,
 "nbformat_minor": 5
}
